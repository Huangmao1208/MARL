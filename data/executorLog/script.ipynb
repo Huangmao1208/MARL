{
 "cells": [
  {
   "cell_type": "code",
   "execution_count": 1,
   "metadata": {},
   "outputs": [],
   "source": [
    "from datetime import datetime\n",
    "\n",
    "def convert_to_relative_time(log_lines):\n",
    "    reference_time = datetime.strptime(log_lines[0][:17], '%y/%m/%d %H:%M:%S')\n",
    "    relative_times = []\n",
    "    for line in log_lines:\n",
    "        current_time = datetime.strptime(line[:17], '%y/%m/%d %H:%M:%S')\n",
    "        relative_seconds = int((current_time - reference_time).total_seconds())\n",
    "        relative_time_entry = f\"{relative_seconds}:{line[18:]}\"\n",
    "        relative_times.append(relative_time_entry)\n",
    "    return relative_times\n"
   ]
  },
  {
   "cell_type": "code",
   "execution_count": 2,
   "metadata": {},
   "outputs": [],
   "source": [
    "import pandas as pd\n",
    "import numpy as np"
   ]
  },
  {
   "cell_type": "code",
   "execution_count": 3,
   "metadata": {},
   "outputs": [],
   "source": [
    "file_path = '/Users/jingyiwu/Documents/Project/executorLog/svm_nominal_executorLog.txt'\n",
    "log_lines = []\n",
    "with open(file_path, 'r') as file:\n",
    "    for line in file:\n",
    "        if \"Executor: !!!!Finished task\" in line.strip():\n",
    "            log_lines.append(line.strip()) \n",
    "count_sec = {}\n",
    "relative_time_lines = convert_to_relative_time(log_lines)\n",
    "\n",
    "for line in relative_time_lines:\n",
    "    info = line.split(\":\", 1)\n",
    "    if info[0] in count_sec:\n",
    "        count_sec[info[0]] += 1\n",
    "    else:\n",
    "        count_sec[info[0]] = 1\n",
    "\n",
    "max_key = max(int(key) for key in count_sec)\n",
    "df = pd.DataFrame(index=range(max_key + 1))\n",
    "df['svm nominal Count'] = 0\n",
    "\n",
    "for key, value in count_sec.items():\n",
    "    df.at[int(key), 'svm nominal Count'] = value\n",
    "\n",
    "\n",
    "svm_nominal_list = df['svm nominal Count'].to_list()\n",
    "\n",
    "file_path = '/Users/jingyiwu/Documents/Project/executorLog/svm_sprinting_executorLog.txt'\n",
    "log_lines = []\n",
    "with open(file_path, 'r') as file:\n",
    "    for line in file:\n",
    "        if \"Executor: !!!!Finished task\" in line.strip():\n",
    "            log_lines.append(line.strip()) \n",
    "count_sec = {}\n",
    "relative_time_lines = convert_to_relative_time(log_lines)\n",
    "\n",
    "for line in relative_time_lines:\n",
    "    info = line.split(\":\", 1)\n",
    "    if info[0] in count_sec:\n",
    "        count_sec[info[0]] += 1\n",
    "    else:\n",
    "        count_sec[info[0]] = 1\n",
    "\n",
    "max_key = max(int(key) for key in count_sec)\n",
    "\n",
    "df = pd.DataFrame(index=range(max_key + 1))\n",
    "df['svm sprinting Count'] = 0\n",
    "\n",
    "for key, value in count_sec.items():\n",
    "    df.at[int(key), 'svm sprinting Count'] = value\n",
    "\n",
    "svm_sprinting_list = df['svm sprinting Count'].to_list()\n"
   ]
  },
  {
   "cell_type": "code",
   "execution_count": 4,
   "metadata": {},
   "outputs": [
    {
     "name": "stdout",
     "output_type": "stream",
     "text": [
      "{'0': 1, '1': 1, '2': 1, '22': 2, '24': 1, '43': 1, '44': 1, '45': 1, '65': 2, '66': 1, '86': 2, '88': 1, '107': 2, '109': 1, '128': 1, '129': 1, '130': 1, '149': 2, '150': 1, '168': 1, '169': 1, '170': 1, '188': 1, '189': 1, '190': 1, '208': 2, '210': 1, '228': 2, '230': 1, '248': 2, '250': 1, '268': 2, '270': 1, '288': 2, '290': 1, '308': 2, '310': 1, '328': 2, '330': 1, '348': 2, '350': 1, '368': 2, '370': 1, '387': 1, '388': 1, '390': 1, '407': 1, '408': 1, '410': 1, '428': 2, '430': 1, '447': 1, '448': 1, '450': 1, '467': 1, '469': 1, '470': 1, '487': 1, '489': 1, '490': 1, '507': 1, '508': 1, '509': 1, '527': 1, '528': 1, '529': 1, '547': 1, '548': 1, '549': 1, '567': 1, '568': 1, '569': 1, '586': 1, '588': 1, '589': 1, '606': 1, '608': 1, '609': 1, '626': 1, '628': 1, '629': 1, '646': 1, '648': 1, '649': 1, '666': 1, '668': 2, '686': 1, '687': 1, '688': 1, '706': 1, '707': 1, '708': 1, '726': 1, '727': 1, '728': 1, '746': 1, '747': 2, '766': 1, '767': 2, '786': 1, '787': 2, '806': 1, '807': 2, '826': 1, '827': 2, '846': 1, '847': 2, '866': 1, '867': 2, '886': 1, '887': 2, '906': 2, '907': 1, '926': 3, '946': 3, '966': 3, '986': 3, '1006': 3, '1026': 3, '1045': 1, '1046': 2, '1065': 1, '1066': 2, '1085': 2, '1086': 1, '1105': 2, '1106': 1, '1125': 3, '1145': 2, '1146': 1, '1164': 1, '1165': 1, '1166': 1, '1184': 1, '1185': 2, '1204': 1, '1205': 1, '1206': 1, '1224': 1, '1225': 2, '1244': 1, '1245': 2, '1264': 2, '1265': 1, '1284': 2, '1285': 1, '1304': 2, '1305': 1, '1324': 2, '1325': 1, '1344': 2, '1345': 1, '1364': 2, '1365': 1, '1384': 2, '1385': 1, '1404': 2, '1405': 1, '1424': 3, '1444': 3, '1464': 2, '1465': 1, '1484': 2, '1485': 1, '1504': 2, '1505': 1, '1524': 3, '1544': 3, '1564': 3, '1584': 3, '1604': 3, '1624': 3, '1644': 3, '1664': 3, '1684': 3, '1703': 1, '1704': 2, '1723': 1, '1724': 2, '1743': 1, '1744': 2, '1763': 1, '1764': 2, '1782': 1, '1783': 2, '1785': 1, '1800': 4, '1801': 9, '1802': 6, '1803': 9, '1804': 9, '1805': 9, '1806': 7, '1807': 8, '1808': 9, '1809': 9, '1810': 6, '1811': 9, '1812': 9, '1813': 9, '1814': 6, '1815': 9, '1816': 9, '1817': 9, '1818': 9, '1819': 9, '1820': 9, '1821': 7, '1822': 8, '1823': 9, '1824': 8, '1825': 8, '1826': 8, '1827': 9, '1828': 8, '1829': 9, '1830': 8, '1831': 9, '1832': 9, '1833': 8, '1834': 9, '1835': 9, '1836': 8, '1837': 9, '1838': 9, '1839': 8, '1840': 9, '1841': 9, '1842': 8, '1843': 9, '1844': 8, '1845': 8, '1846': 9, '1847': 10, '1848': 17, '1849': 17, '1850': 16, '1851': 17, '1852': 17, '1853': 16, '1854': 17, '1855': 17, '1856': 17, '1857': 16, '1858': 17, '1859': 15, '1860': 9, '1861': 9, '1862': 6, '1863': 9, '1864': 9, '1865': 7, '1866': 8, '1867': 9, '1868': 9, '1869': 6, '1870': 9, '1871': 9, '1872': 6, '1873': 9, '1874': 6, '1875': 9, '1876': 9, '1877': 6, '1878': 9, '1879': 6, '1880': 9, '1881': 9, '1882': 6, '1883': 9, '1884': 8, '1885': 3, '1886': 6, '1887': 6, '1888': 6, '1889': 6, '1890': 6, '1891': 6, '1892': 6, '1893': 6, '1894': 6, '1895': 6, '1896': 6, '1897': 6, '1898': 6, '1899': 6, '1900': 6, '1901': 6, '1902': 6, '1903': 7, '1904': 6, '1905': 6, '1906': 6, '1907': 6, '1908': 6, '1909': 6, '1910': 6, '1911': 6, '1912': 6, '1913': 6, '1914': 6, '1915': 6, '1916': 6, '1917': 6, '1918': 13, '1919': 30, '1920': 27, '1921': 28, '1922': 29, '1923': 25, '1924': 29, '1925': 26, '1926': 27, '1927': 29, '1928': 28, '1929': 27, '1930': 29, '1931': 28, '1932': 29}\n",
      "[1, 1, 1, 0, 0, 0, 0, 0, 0, 0, 0, 0, 0, 0, 0, 0, 0, 0, 0, 0, 0, 0, 2, 0, 1, 0, 0, 0, 0, 0, 0, 0, 0, 0, 0, 0, 0, 0, 0, 0, 0, 0, 0, 1, 1, 1, 0, 0, 0, 0, 0, 0, 0, 0, 0, 0, 0, 0, 0, 0, 0, 0, 0, 0, 0, 2, 1, 0, 0, 0, 0, 0, 0, 0, 0, 0, 0, 0, 0, 0, 0, 0, 0, 0, 0, 0, 2, 0, 1, 0, 0, 0, 0, 0, 0, 0, 0, 0, 0, 0, 0, 0, 0, 0, 0, 0, 0, 2, 0, 1, 0, 0, 0, 0, 0, 0, 0, 0, 0, 0, 0, 0, 0, 0, 0, 0, 0, 0, 1, 1, 1, 0, 0, 0, 0, 0, 0, 0, 0, 0, 0, 0, 0, 0, 0, 0, 0, 0, 0, 2, 1, 0, 0, 0, 0, 0, 0, 0, 0, 0, 0, 0, 0, 0, 0, 0, 0, 0, 1, 1, 1, 0, 0, 0, 0, 0, 0, 0, 0, 0, 0, 0, 0, 0, 0, 0, 0, 0, 1, 1, 1, 0, 0, 0, 0, 0, 0, 0, 0, 0, 0, 0, 0, 0, 0, 0, 0, 0, 2, 0, 1, 0, 0, 0, 0, 0, 0, 0, 0, 0, 0, 0, 0, 0, 0, 0, 0, 0, 2, 0, 1, 0, 0, 0, 0, 0, 0, 0, 0, 0, 0, 0, 0, 0, 0, 0, 0, 0, 2, 0, 1, 0, 0, 0, 0, 0, 0, 0, 0, 0, 0, 0, 0, 0, 0, 0, 0, 0, 2, 0, 1, 0, 0, 0, 0, 0, 0, 0, 0, 0, 0, 0, 0, 0, 0, 0, 0, 0, 2, 0, 1, 0, 0, 0, 0, 0, 0, 0, 0, 0, 0, 0, 0, 0, 0, 0, 0, 0, 2, 0, 1, 0, 0, 0, 0, 0, 0, 0, 0, 0, 0, 0, 0, 0, 0, 0, 0, 0, 2, 0, 1, 0, 0, 0, 0, 0, 0, 0, 0, 0, 0, 0, 0, 0, 0, 0, 0, 0, 2, 0, 1, 0, 0, 0, 0, 0, 0, 0, 0, 0, 0, 0, 0, 0, 0, 0, 0, 0, 2, 0, 1, 0, 0, 0, 0, 0, 0, 0, 0, 0, 0, 0, 0, 0, 0, 0, 0, 1, 1, 0, 1, 0, 0, 0, 0, 0, 0, 0, 0, 0, 0, 0, 0, 0, 0, 0, 0, 1, 1, 0, 1, 0, 0, 0, 0, 0, 0, 0, 0, 0, 0, 0, 0, 0, 0, 0, 0, 0, 2, 0, 1, 0, 0, 0, 0, 0, 0, 0, 0, 0, 0, 0, 0, 0, 0, 0, 0, 1, 1, 0, 1, 0, 0, 0, 0, 0, 0, 0, 0, 0, 0, 0, 0, 0, 0, 0, 0, 1, 0, 1, 1, 0, 0, 0, 0, 0, 0, 0, 0, 0, 0, 0, 0, 0, 0, 0, 0, 1, 0, 1, 1, 0, 0, 0, 0, 0, 0, 0, 0, 0, 0, 0, 0, 0, 0, 0, 0, 1, 1, 1, 0, 0, 0, 0, 0, 0, 0, 0, 0, 0, 0, 0, 0, 0, 0, 0, 0, 1, 1, 1, 0, 0, 0, 0, 0, 0, 0, 0, 0, 0, 0, 0, 0, 0, 0, 0, 0, 1, 1, 1, 0, 0, 0, 0, 0, 0, 0, 0, 0, 0, 0, 0, 0, 0, 0, 0, 0, 1, 1, 1, 0, 0, 0, 0, 0, 0, 0, 0, 0, 0, 0, 0, 0, 0, 0, 0, 1, 0, 1, 1, 0, 0, 0, 0, 0, 0, 0, 0, 0, 0, 0, 0, 0, 0, 0, 0, 1, 0, 1, 1, 0, 0, 0, 0, 0, 0, 0, 0, 0, 0, 0, 0, 0, 0, 0, 0, 1, 0, 1, 1, 0, 0, 0, 0, 0, 0, 0, 0, 0, 0, 0, 0, 0, 0, 0, 0, 1, 0, 1, 1, 0, 0, 0, 0, 0, 0, 0, 0, 0, 0, 0, 0, 0, 0, 0, 0, 1, 0, 2, 0, 0, 0, 0, 0, 0, 0, 0, 0, 0, 0, 0, 0, 0, 0, 0, 0, 1, 1, 1, 0, 0, 0, 0, 0, 0, 0, 0, 0, 0, 0, 0, 0, 0, 0, 0, 0, 1, 1, 1, 0, 0, 0, 0, 0, 0, 0, 0, 0, 0, 0, 0, 0, 0, 0, 0, 0, 1, 1, 1, 0, 0, 0, 0, 0, 0, 0, 0, 0, 0, 0, 0, 0, 0, 0, 0, 0, 1, 2, 0, 0, 0, 0, 0, 0, 0, 0, 0, 0, 0, 0, 0, 0, 0, 0, 0, 0, 1, 2, 0, 0, 0, 0, 0, 0, 0, 0, 0, 0, 0, 0, 0, 0, 0, 0, 0, 0, 1, 2, 0, 0, 0, 0, 0, 0, 0, 0, 0, 0, 0, 0, 0, 0, 0, 0, 0, 0, 1, 2, 0, 0, 0, 0, 0, 0, 0, 0, 0, 0, 0, 0, 0, 0, 0, 0, 0, 0, 1, 2, 0, 0, 0, 0, 0, 0, 0, 0, 0, 0, 0, 0, 0, 0, 0, 0, 0, 0, 1, 2, 0, 0, 0, 0, 0, 0, 0, 0, 0, 0, 0, 0, 0, 0, 0, 0, 0, 0, 1, 2, 0, 0, 0, 0, 0, 0, 0, 0, 0, 0, 0, 0, 0, 0, 0, 0, 0, 0, 1, 2, 0, 0, 0, 0, 0, 0, 0, 0, 0, 0, 0, 0, 0, 0, 0, 0, 0, 0, 2, 1, 0, 0, 0, 0, 0, 0, 0, 0, 0, 0, 0, 0, 0, 0, 0, 0, 0, 0, 3, 0, 0, 0, 0, 0, 0, 0, 0, 0, 0, 0, 0, 0, 0, 0, 0, 0, 0, 0, 3, 0, 0, 0, 0, 0, 0, 0, 0, 0, 0, 0, 0, 0, 0, 0, 0, 0, 0, 0, 3, 0, 0, 0, 0, 0, 0, 0, 0, 0, 0, 0, 0, 0, 0, 0, 0, 0, 0, 0, 3, 0, 0, 0, 0, 0, 0, 0, 0, 0, 0, 0, 0, 0, 0, 0, 0, 0, 0, 0, 3, 0, 0, 0, 0, 0, 0, 0, 0, 0, 0, 0, 0, 0, 0, 0, 0, 0, 0, 0, 3, 0, 0, 0, 0, 0, 0, 0, 0, 0, 0, 0, 0, 0, 0, 0, 0, 0, 0, 1, 2, 0, 0, 0, 0, 0, 0, 0, 0, 0, 0, 0, 0, 0, 0, 0, 0, 0, 0, 1, 2, 0, 0, 0, 0, 0, 0, 0, 0, 0, 0, 0, 0, 0, 0, 0, 0, 0, 0, 2, 1, 0, 0, 0, 0, 0, 0, 0, 0, 0, 0, 0, 0, 0, 0, 0, 0, 0, 0, 2, 1, 0, 0, 0, 0, 0, 0, 0, 0, 0, 0, 0, 0, 0, 0, 0, 0, 0, 0, 3, 0, 0, 0, 0, 0, 0, 0, 0, 0, 0, 0, 0, 0, 0, 0, 0, 0, 0, 0, 2, 1, 0, 0, 0, 0, 0, 0, 0, 0, 0, 0, 0, 0, 0, 0, 0, 0, 0, 1, 1, 1, 0, 0, 0, 0, 0, 0, 0, 0, 0, 0, 0, 0, 0, 0, 0, 0, 0, 1, 2, 0, 0, 0, 0, 0, 0, 0, 0, 0, 0, 0, 0, 0, 0, 0, 0, 0, 0, 1, 1, 1, 0, 0, 0, 0, 0, 0, 0, 0, 0, 0, 0, 0, 0, 0, 0, 0, 0, 1, 2, 0, 0, 0, 0, 0, 0, 0, 0, 0, 0, 0, 0, 0, 0, 0, 0, 0, 0, 1, 2, 0, 0, 0, 0, 0, 0, 0, 0, 0, 0, 0, 0, 0, 0, 0, 0, 0, 0, 2, 1, 0, 0, 0, 0, 0, 0, 0, 0, 0, 0, 0, 0, 0, 0, 0, 0, 0, 0, 2, 1, 0, 0, 0, 0, 0, 0, 0, 0, 0, 0, 0, 0, 0, 0, 0, 0, 0, 0, 2, 1, 0, 0, 0, 0, 0, 0, 0, 0, 0, 0, 0, 0, 0, 0, 0, 0, 0, 0, 2, 1, 0, 0, 0, 0, 0, 0, 0, 0, 0, 0, 0, 0, 0, 0, 0, 0, 0, 0, 2, 1, 0, 0, 0, 0, 0, 0, 0, 0, 0, 0, 0, 0, 0, 0, 0, 0, 0, 0, 2, 1, 0, 0, 0, 0, 0, 0, 0, 0, 0, 0, 0, 0, 0, 0, 0, 0, 0, 0, 2, 1, 0, 0, 0, 0, 0, 0, 0, 0, 0, 0, 0, 0, 0, 0, 0, 0, 0, 0, 2, 1, 0, 0, 0, 0, 0, 0, 0, 0, 0, 0, 0, 0, 0, 0, 0, 0, 0, 0, 3, 0, 0, 0, 0, 0, 0, 0, 0, 0, 0, 0, 0, 0, 0, 0, 0, 0, 0, 0, 3, 0, 0, 0, 0, 0, 0, 0, 0, 0, 0, 0, 0, 0, 0, 0, 0, 0, 0, 0, 2, 1, 0, 0, 0, 0, 0, 0, 0, 0, 0, 0, 0, 0, 0, 0, 0, 0, 0, 0, 2, 1, 0, 0, 0, 0, 0, 0, 0, 0, 0, 0, 0, 0, 0, 0, 0, 0, 0, 0, 2, 1, 0, 0, 0, 0, 0, 0, 0, 0, 0, 0, 0, 0, 0, 0, 0, 0, 0, 0, 3, 0, 0, 0, 0, 0, 0, 0, 0, 0, 0, 0, 0, 0, 0, 0, 0, 0, 0, 0, 3, 0, 0, 0, 0, 0, 0, 0, 0, 0, 0, 0, 0, 0, 0, 0, 0, 0, 0, 0, 3, 0, 0, 0, 0, 0, 0, 0, 0, 0, 0, 0, 0, 0, 0, 0, 0, 0, 0, 0, 3, 0, 0, 0, 0, 0, 0, 0, 0, 0, 0, 0, 0, 0, 0, 0, 0, 0, 0, 0, 3, 0, 0, 0, 0, 0, 0, 0, 0, 0, 0, 0, 0, 0, 0, 0, 0, 0, 0, 0, 3, 0, 0, 0, 0, 0, 0, 0, 0, 0, 0, 0, 0, 0, 0, 0, 0, 0, 0, 0, 3, 0, 0, 0, 0, 0, 0, 0, 0, 0, 0, 0, 0, 0, 0, 0, 0, 0, 0, 0, 3, 0, 0, 0, 0, 0, 0, 0, 0, 0, 0, 0, 0, 0, 0, 0, 0, 0, 0, 0, 3, 0, 0, 0, 0, 0, 0, 0, 0, 0, 0, 0, 0, 0, 0, 0, 0, 0, 0, 1, 2, 0, 0, 0, 0, 0, 0, 0, 0, 0, 0, 0, 0, 0, 0, 0, 0, 0, 0, 1, 2, 0, 0, 0, 0, 0, 0, 0, 0, 0, 0, 0, 0, 0, 0, 0, 0, 0, 0, 1, 2, 0, 0, 0, 0, 0, 0, 0, 0, 0, 0, 0, 0, 0, 0, 0, 0, 0, 0, 1, 2, 0, 0, 0, 0, 0, 0, 0, 0, 0, 0, 0, 0, 0, 0, 0, 0, 0, 1, 2, 0, 1, 0, 0, 0, 0, 0, 0, 0, 0, 0, 0, 0, 0, 0, 0, 4, 9, 6, 9, 9, 9, 7, 8, 9, 9, 6, 9, 9, 9, 6, 9, 9, 9, 9, 9, 9, 7, 8, 9, 8, 8, 8, 9, 8, 9, 8, 9, 9, 8, 9, 9, 8, 9, 9, 8, 9, 9, 8, 9, 8, 8, 9, 10, 17, 17, 16, 17, 17, 16, 17, 17, 17, 16, 17, 15, 9, 9, 6, 9, 9, 7, 8, 9, 9, 6, 9, 9, 6, 9, 6, 9, 9, 6, 9, 6, 9, 9, 6, 9, 8, 3, 6, 6, 6, 6, 6, 6, 6, 6, 6, 6, 6, 6, 6, 6, 6, 6, 6, 7, 6, 6, 6, 6, 6, 6, 6, 6, 6, 6, 6, 6, 6, 6, 13, 30, 27, 28, 29, 25, 29, 26, 27, 29, 28, 27, 29, 28, 29]\n"
     ]
    }
   ],
   "source": [
    "file_path = '/Users/jingyiwu/Documents/Project/executorLog/pr_nominal_executorLog.txt'\n",
    "log_lines = []\n",
    "with open(file_path, 'r') as file:\n",
    "    for line in file:\n",
    "        if \"Executor: !!!!Finished task\" in line.strip():\n",
    "            log_lines.append(line.strip()) \n",
    "count_sec = {}\n",
    "relative_time_lines = convert_to_relative_time(log_lines)\n",
    "\n",
    "for line in relative_time_lines:\n",
    "    info = line.split(\":\", 1)\n",
    "    if info[0] in count_sec:\n",
    "        count_sec[info[0]] += 1\n",
    "    else:\n",
    "        count_sec[info[0]] = 1\n",
    "\n",
    "print(count_sec)\n",
    "max_key = max(int(key) for key in count_sec)\n",
    "df = pd.DataFrame(index=range(max_key + 1))\n",
    "df['page rank nominal Count'] = 0\n",
    "\n",
    "for key, value in count_sec.items():\n",
    "    df.at[int(key), 'page rank nominal Count'] = value\n",
    "\n",
    "\n",
    "pr_nominal_list = df['page rank nominal Count'].to_list()\n",
    "\n",
    "print(pr_nominal_list)\n",
    "\n",
    "file_path = '/Users/jingyiwu/Documents/Project/executorLog/pr_sprinting_executorLog.txt'\n",
    "log_lines = []\n",
    "with open(file_path, 'r') as file:\n",
    "    for line in file:\n",
    "        if \"Executor: !!!!Finished task\" in line.strip():\n",
    "            log_lines.append(line.strip()) \n",
    "count_sec = {}\n",
    "relative_time_lines = convert_to_relative_time(log_lines)\n",
    "\n",
    "for line in relative_time_lines:\n",
    "    info = line.split(\":\", 1)\n",
    "    if info[0] in count_sec:\n",
    "        count_sec[info[0]] += 1\n",
    "    else:\n",
    "        count_sec[info[0]] = 1\n",
    "\n",
    "max_key = max(int(key) for key in count_sec)\n",
    "\n",
    "df = pd.DataFrame(index=range(max_key + 1))\n",
    "df['page rank sprinting Count'] = 0\n",
    "\n",
    "for key, value in count_sec.items():\n",
    "    df.at[int(key), 'page rank sprinting Count'] = value\n",
    "\n",
    "pr_sprinting_list = df['page rank sprinting Count'].to_list()\n"
   ]
  },
  {
   "cell_type": "code",
   "execution_count": 5,
   "metadata": {},
   "outputs": [],
   "source": [
    "file_path = '/Users/jingyiwu/Documents/Project/executorLog/lr_nominal_executorLog.txt'\n",
    "log_lines = []\n",
    "with open(file_path, 'r') as file:\n",
    "    for line in file:\n",
    "        if \"Executor: !!!!Finished task\" in line.strip():\n",
    "            log_lines.append(line.strip()) \n",
    "count_sec = {}\n",
    "relative_time_lines = convert_to_relative_time(log_lines)\n",
    "\n",
    "for line in relative_time_lines:\n",
    "    info = line.split(\":\", 1)\n",
    "    if info[0] in count_sec:\n",
    "        count_sec[info[0]] += 1\n",
    "    else:\n",
    "        count_sec[info[0]] = 1\n",
    "\n",
    "max_key = max(int(key) for key in count_sec)\n",
    "df = pd.DataFrame(index=range(max_key + 1))\n",
    "df['linearReg nominal Count'] = 0\n",
    "\n",
    "for key, value in count_sec.items():\n",
    "    df.at[int(key), 'linearReg nominal Count'] = value\n",
    "\n",
    "lr_nominal_list = df['linearReg nominal Count'].to_list()\n",
    "\n",
    "file_path = '/Users/jingyiwu/Documents/Project/executorLog/lr_sprinting_executorLog.txt'\n",
    "log_lines = []\n",
    "with open(file_path, 'r') as file:\n",
    "    for line in file:\n",
    "        if \"Executor: !!!!Finished task\" in line.strip():\n",
    "            log_lines.append(line.strip()) \n",
    "count_sec = {}\n",
    "relative_time_lines = convert_to_relative_time(log_lines)\n",
    "\n",
    "for line in relative_time_lines:\n",
    "    info = line.split(\":\", 1)\n",
    "    if info[0] in count_sec:\n",
    "        count_sec[info[0]] += 1\n",
    "    else:\n",
    "        count_sec[info[0]] = 1\n",
    "\n",
    "max_key = max(int(key) for key in count_sec)\n",
    "\n",
    "df = pd.DataFrame(index=range(max_key + 1))\n",
    "df['linearReg sprinting Count'] = 0\n",
    "\n",
    "for key, value in count_sec.items():\n",
    "    df.at[int(key), 'linearReg sprinting Count'] = value\n",
    "\n",
    "lr_sprinting_list = df['linearReg sprinting Count'].to_list()\n"
   ]
  },
  {
   "cell_type": "code",
   "execution_count": 6,
   "metadata": {},
   "outputs": [],
   "source": [
    "file_path = '/Users/jingyiwu/Documents/Project/executorLog/kmeans_nominal_executorLog.txt'\n",
    "log_lines = []\n",
    "with open(file_path, 'r') as file:\n",
    "    for line in file:\n",
    "        if \"Executor: !!!!Finished task\" in line.strip():\n",
    "            log_lines.append(line.strip()) \n",
    "count_sec = {}\n",
    "relative_time_lines = convert_to_relative_time(log_lines)\n",
    "\n",
    "for line in relative_time_lines:\n",
    "    info = line.split(\":\", 1)\n",
    "    if info[0] in count_sec:\n",
    "        count_sec[info[0]] += 1\n",
    "    else:\n",
    "        count_sec[info[0]] = 1\n",
    "\n",
    "max_key = max(int(key) for key in count_sec)\n",
    "df = pd.DataFrame(index=range(max_key + 1))\n",
    "df['kmeans nominal Count'] = 0\n",
    "\n",
    "for key, value in count_sec.items():\n",
    "    df.at[int(key), 'kmeans nominal Count'] = value\n",
    "\n",
    "\n",
    "kmeans_nominal_list = df['kmeans nominal Count'].to_list()\n",
    "\n",
    "file_path = '/Users/jingyiwu/Documents/Project/executorLog/kmeans_sprinting_executorLog.txt'\n",
    "log_lines = []\n",
    "with open(file_path, 'r') as file:\n",
    "    for line in file:\n",
    "        if \"Executor: !!!!Finished task\" in line.strip():\n",
    "            log_lines.append(line.strip()) \n",
    "count_sec = {}\n",
    "relative_time_lines = convert_to_relative_time(log_lines)\n",
    "\n",
    "\n",
    "for line in relative_time_lines:\n",
    "    info = line.split(\":\", 1)\n",
    "    if info[0] in count_sec:\n",
    "        count_sec[info[0]] += 1\n",
    "    else:\n",
    "        count_sec[info[0]] = 1\n",
    "\n",
    "max_key = max(int(key) for key in count_sec)\n",
    "\n",
    "df = pd.DataFrame(index=range(max_key + 1))\n",
    "df['kmeans sprinting Count'] = 0\n",
    "\n",
    "for key, value in count_sec.items():\n",
    "    df.at[int(key), 'kmeans sprinting Count'] = value\n",
    "\n",
    "kmeans_sprinting_list = df['kmeans sprinting Count'].to_list()\n"
   ]
  },
  {
   "cell_type": "code",
   "execution_count": 7,
   "metadata": {},
   "outputs": [],
   "source": [
    "file_path = '/Users/jingyiwu/Documents/Project/executorLog/als_nominal_executorLog.txt'\n",
    "log_lines = []\n",
    "with open(file_path, 'r') as file:\n",
    "    for line in file:\n",
    "        if \"Executor: !!!!Finished task\" in line.strip():\n",
    "            log_lines.append(line.strip()) \n",
    "count_sec = {}\n",
    "relative_time_lines = convert_to_relative_time(log_lines)\n",
    "\n",
    "for line in relative_time_lines:\n",
    "    info = line.split(\":\", 1)\n",
    "    if info[0] in count_sec:\n",
    "        count_sec[info[0]] += 1\n",
    "    else:\n",
    "        count_sec[info[0]] = 1\n",
    "\n",
    "max_key = max(int(key) for key in count_sec)\n",
    "df = pd.DataFrame(index=range(max_key + 1))\n",
    "df['als nominal Count'] = 0\n",
    "\n",
    "for key, value in count_sec.items():\n",
    "    df.at[int(key), 'als nominal Count'] = value\n",
    "\n",
    "\n",
    "als_nominal_list = df['als nominal Count'].to_list()\n",
    "\n",
    "file_path = '/Users/jingyiwu/Documents/Project/executorLog/als_sprinting_executorLog.txt'\n",
    "log_lines = []\n",
    "with open(file_path, 'r') as file:\n",
    "    for line in file:\n",
    "        if \"Executor: !!!!Finished task\" in line.strip():\n",
    "            log_lines.append(line.strip()) \n",
    "count_sec = {}\n",
    "relative_time_lines = convert_to_relative_time(log_lines)\n",
    "\n",
    "for line in relative_time_lines:\n",
    "    info = line.split(\":\", 1)\n",
    "    if info[0] in count_sec:\n",
    "        count_sec[info[0]] += 1\n",
    "    else:\n",
    "        count_sec[info[0]] = 1\n",
    "\n",
    "max_key = max(int(key) for key in count_sec)\n",
    "\n",
    "df = pd.DataFrame(index=range(max_key + 1))\n",
    "df['als sprinting Count'] = 0\n",
    "\n",
    "for key, value in count_sec.items():\n",
    "    df.at[int(key), 'als sprinting Count'] = value\n",
    "\n",
    "als_sprinting_list = df['als sprinting Count'].to_list()\n"
   ]
  },
  {
   "cell_type": "code",
   "execution_count": 8,
   "metadata": {},
   "outputs": [],
   "source": [
    "def interpolation(list, target_length):\n",
    "    # Original indices (0 to 5 for 6 elements)\n",
    "    original_indices = np.linspace(0, len(list) - 1, num=len(list))\n",
    "\n",
    "    # New indices for target list\n",
    "    new_indices = np.linspace(0, len(list) - 1, num=target_length)\n",
    "\n",
    "    # Interpolating to get the new list\n",
    "    new_list = np.interp(new_indices, original_indices, list)\n",
    "\n",
    "    return new_list.tolist()\n"
   ]
  },
  {
   "cell_type": "code",
   "execution_count": 9,
   "metadata": {},
   "outputs": [],
   "source": [
    "als_sprinting_list = interpolation(als_sprinting_list, len(als_nominal_list))\n",
    "kmeans_sprinting_list = interpolation(kmeans_sprinting_list, len(kmeans_nominal_list))\n",
    "lr_sprinting_list = interpolation(lr_sprinting_list, len(lr_nominal_list))\n",
    "pr_sprinting_list = interpolation(pr_sprinting_list, len(pr_nominal_list))\n",
    "svm_sprinting_list = interpolation(svm_sprinting_list, len(svm_nominal_list))"
   ]
  },
  {
   "cell_type": "code",
   "execution_count": 10,
   "metadata": {},
   "outputs": [],
   "source": [
    "l = {\"als_nominal_list\": als_nominal_list,\n",
    "     \"als_sprinting_list\": als_sprinting_list,\n",
    "     \"kmeans_nominal_list\": kmeans_nominal_list, \n",
    "     \"kmeans_sprinting_list\": kmeans_sprinting_list,\n",
    "     \"lr_nominal_list\": lr_nominal_list, \n",
    "     \"lr_sprinting_list\": lr_sprinting_list,\n",
    "     \"pr_nominal_list\": pr_nominal_list, \n",
    "     \"pr_sprinting_list\": pr_sprinting_list,\n",
    "     \"svm_nominal_list\": svm_nominal_list, \n",
    "     \"svm_sprinting_list\": svm_sprinting_list}"
   ]
  },
  {
   "cell_type": "code",
   "execution_count": 11,
   "metadata": {},
   "outputs": [],
   "source": [
    "\n",
    "with open('executorLog_list.txt', 'a+') as file:\n",
    "    for item in l:\n",
    "        file.write(f\"{item}: {l[item]}\\n\")\n"
   ]
  },
  {
   "cell_type": "code",
   "execution_count": 12,
   "metadata": {},
   "outputs": [],
   "source": [
    "import numpy as np"
   ]
  },
  {
   "cell_type": "code",
   "execution_count": 13,
   "metadata": {},
   "outputs": [
    {
     "data": {
      "text/plain": [
       "array([0.17647059, 0.05882353, 0.17647059, 0.05882353, 0.        ,\n",
       "       0.05882353, 0.11764706, 0.11764706, 0.        , 0.        ,\n",
       "       0.05882353, 0.        , 0.05882353, 0.        , 0.05882353,\n",
       "       0.05882353])"
      ]
     },
     "execution_count": 13,
     "metadata": {},
     "output_type": "execute_result"
    }
   ],
   "source": [
    "a = np.array([2,7,2,5,6,7,3,6,2,1,10, 12, 14, 15, 0, 0, 0])\n",
    "np.histogram(a, np.arange(0, a.max()+2, 1))[0] / np.histogram(a, np.arange(0, a.max()+2, 1))[0].sum()"
   ]
  },
  {
   "cell_type": "code",
   "execution_count": 14,
   "metadata": {},
   "outputs": [
    {
     "data": {
      "text/plain": [
       "array([0.17647059, 0.05882353, 0.17647059, 0.05882353, 0.        ,\n",
       "       0.05882353, 0.11764706, 0.11764706, 0.        , 0.        ,\n",
       "       0.05882353, 0.        , 0.05882353, 0.        , 0.11764706])"
      ]
     },
     "execution_count": 14,
     "metadata": {},
     "output_type": "execute_result"
    }
   ],
   "source": [
    "a = np.array([2,7,2,5,6,7,3,6,2,1,10, 12, 14, 15, 0, 0, 0])\n",
    "np.histogram(a, np.arange(0, a.max()+1, 1))[0] / np.histogram(a, np.arange(0, a.max()+1, 1))[0].sum()"
   ]
  },
  {
   "cell_type": "code",
   "execution_count": 15,
   "metadata": {},
   "outputs": [
    {
     "data": {
      "text/plain": [
       "array([0.17647059, 0.05882353, 0.17647059, 0.05882353, 0.        ,\n",
       "       0.05882353, 0.11764706, 0.11764706, 0.        , 0.        ,\n",
       "       0.05882353, 0.        , 0.05882353, 0.        , 0.05882353,\n",
       "       0.05882353, 0.        ])"
      ]
     },
     "execution_count": 15,
     "metadata": {},
     "output_type": "execute_result"
    }
   ],
   "source": [
    "a = np.array([2,7,2,5,6,7,3,6,2,1,10, 12, 14, 15, 0, 0, 0])\n",
    "np.histogram(a, np.arange(0, a.max()+3, 1))[0] / np.histogram(a, np.arange(0, a.max()+3, 1))[0].sum()"
   ]
  },
  {
   "cell_type": "code",
   "execution_count": 16,
   "metadata": {},
   "outputs": [
    {
     "data": {
      "text/plain": [
       "array([3, 1, 3, 1, 0, 1, 2, 2, 0, 0, 1, 0, 1, 0, 2])"
      ]
     },
     "execution_count": 16,
     "metadata": {},
     "output_type": "execute_result"
    }
   ],
   "source": [
    "np.histogram(a, np.arange(0, a.max()+1, 1))[0]"
   ]
  },
  {
   "cell_type": "code",
   "execution_count": 17,
   "metadata": {},
   "outputs": [
    {
     "data": {
      "text/plain": [
       "array([0.        , 0.06666667, 0.13333333, 0.2       , 0.26666667,\n",
       "       0.33333333, 0.4       , 0.46666667, 0.53333333, 0.6       ,\n",
       "       0.66666667, 0.73333333, 0.8       , 0.86666667, 0.93333333,\n",
       "       1.        ])"
      ]
     },
     "execution_count": 17,
     "metadata": {},
     "output_type": "execute_result"
    }
   ],
   "source": [
    "np.arange(a.min(), a.max()+1) / a.max()"
   ]
  },
  {
   "cell_type": "code",
   "execution_count": null,
   "metadata": {},
   "outputs": [],
   "source": []
  }
 ],
 "metadata": {
  "kernelspec": {
   "display_name": "Python 3",
   "language": "python",
   "name": "python3"
  },
  "language_info": {
   "codemirror_mode": {
    "name": "ipython",
    "version": 3
   },
   "file_extension": ".py",
   "mimetype": "text/x-python",
   "name": "python",
   "nbconvert_exporter": "python",
   "pygments_lexer": "ipython3",
   "version": "3.11.4"
  }
 },
 "nbformat": 4,
 "nbformat_minor": 2
}
