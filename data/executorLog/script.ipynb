{
 "cells": [
  {
   "cell_type": "code",
   "execution_count": 1,
   "metadata": {},
   "outputs": [],
   "source": [
    "from datetime import datetime\n",
    "\n",
    "def convert_to_relative_time(log_lines):\n",
    "    reference_time = datetime.strptime(log_lines[0][:17], '%y/%m/%d %H:%M:%S')\n",
    "    relative_times = []\n",
    "    for line in log_lines:\n",
    "        current_time = datetime.strptime(line[:17], '%y/%m/%d %H:%M:%S')\n",
    "        relative_seconds = int((current_time - reference_time).total_seconds())\n",
    "        relative_time_entry = f\"{relative_seconds}:{line[18:]}\"\n",
    "        relative_times.append(relative_time_entry)\n",
    "    return relative_times\n"
   ]
  },
  {
   "cell_type": "code",
   "execution_count": 2,
   "metadata": {},
   "outputs": [],
   "source": [
    "import pandas as pd\n",
    "import numpy as np"
   ]
  },
  {
   "cell_type": "code",
   "execution_count": 3,
   "metadata": {},
   "outputs": [],
   "source": [
    "file_path = '/Users/jingyiwu/Documents/Project/executorLog/svm_nominal_executorLog.txt'\n",
    "log_lines = []\n",
    "with open(file_path, 'r') as file:\n",
    "    for line in file:\n",
    "        if \"Executor: !!!!Finished task\" in line.strip():\n",
    "            log_lines.append(line.strip()) \n",
    "count_sec = {}\n",
    "relative_time_lines = convert_to_relative_time(log_lines)\n",
    "\n",
    "for line in relative_time_lines:\n",
    "    info = line.split(\":\", 1)\n",
    "    if info[0] in count_sec:\n",
    "        count_sec[info[0]] += 1\n",
    "    else:\n",
    "        count_sec[info[0]] = 1\n",
    "\n",
    "max_key = max(int(key) for key in count_sec)\n",
    "df = pd.DataFrame(index=range(max_key + 1))\n",
    "df['svm nominal Count'] = 0\n",
    "\n",
    "for key, value in count_sec.items():\n",
    "    df.at[int(key), 'svm nominal Count'] = value\n",
    "\n",
    "\n",
    "svm_nominal_list = df['svm nominal Count'].to_list()\n",
    "\n",
    "file_path = '/Users/jingyiwu/Documents/Project/executorLog/svm_sprinting_executorLog.txt'\n",
    "log_lines = []\n",
    "with open(file_path, 'r') as file:\n",
    "    for line in file:\n",
    "        if \"Executor: !!!!Finished task\" in line.strip():\n",
    "            log_lines.append(line.strip()) \n",
    "count_sec = {}\n",
    "relative_time_lines = convert_to_relative_time(log_lines)\n",
    "\n",
    "for line in relative_time_lines:\n",
    "    info = line.split(\":\", 1)\n",
    "    if info[0] in count_sec:\n",
    "        count_sec[info[0]] += 1\n",
    "    else:\n",
    "        count_sec[info[0]] = 1\n",
    "\n",
    "max_key = max(int(key) for key in count_sec)\n",
    "\n",
    "df = pd.DataFrame(index=range(max_key + 1))\n",
    "df['svm sprinting Count'] = 0\n",
    "\n",
    "for key, value in count_sec.items():\n",
    "    df.at[int(key), 'svm sprinting Count'] = value\n",
    "\n",
    "svm_sprinting_list = df['svm sprinting Count'].to_list()\n"
   ]
  },
  {
   "cell_type": "code",
   "execution_count": 13,
   "metadata": {},
   "outputs": [
    {
     "name": "stdout",
     "output_type": "stream",
     "text": [
      "{'0': 5, '1': 5, '2': 2, '59': 3, '60': 4, '61': 4, '62': 1, '114': 1, '115': 2, '116': 4, '118': 1, '119': 2, '121': 2, '169': 1, '171': 1, '172': 4, '176': 2, '177': 2, '178': 2, '226': 1, '227': 2, '228': 1, '230': 2, '232': 2, '233': 1, '234': 1, '235': 2, '282': 1, '283': 1, '284': 1, '285': 1, '286': 1, '287': 1, '288': 1, '289': 2, '291': 1, '292': 1, '293': 1, '339': 1, '340': 1, '341': 1, '342': 1, '343': 4, '345': 1, '347': 1, '348': 1, '349': 1, '395': 1, '396': 2, '398': 2, '399': 2, '401': 1, '403': 2, '406': 1, '410': 1, '452': 2, '453': 3, '456': 3, '457': 1, '460': 1, '465': 2, '508': 2, '509': 1, '510': 2, '511': 1, '512': 1, '513': 2, '516': 1, '522': 2, '565': 3, '566': 2, '567': 1, '568': 2, '571': 1, '573': 1, '578': 1, '579': 1, '621': 1, '622': 3, '623': 2, '625': 2, '628': 1, '630': 1, '635': 2, '677': 2, '678': 2, '679': 1, '680': 3, '686': 1, '690': 1, '692': 2, '732': 1, '734': 2, '736': 2, '737': 2, '738': 1, '744': 1, '745': 1, '748': 2, '787': 1, '791': 2, '792': 2, '793': 3, '801': 1, '804': 2, '807': 1, '845': 2, '847': 2, '848': 1, '849': 1, '850': 1, '855': 1, '856': 1, '860': 2, '866': 1, '902': 2, '903': 1, '904': 1, '905': 1, '908': 2, '912': 1, '913': 1, '915': 1, '918': 1, '923': 1, '955': 1, '957': 1, '958': 1, '962': 2, '966': 1, '967': 1, '969': 1, '970': 1, '972': 1, '973': 1, '980': 1, '1011': 1, '1015': 1, '1016': 1, '1018': 1, '1019': 1, '1022': 1, '1023': 1, '1025': 1, '1026': 2, '1030': 1, '1038': 1, '1068': 1, '1071': 1, '1072': 1, '1074': 1, '1075': 1, '1079': 2, '1080': 1, '1082': 1, '1083': 1, '1088': 1, '1096': 1, '1125': 1, '1129': 1, '1130': 2, '1132': 1, '1134': 1, '1136': 1, '1137': 1, '1139': 1, '1142': 1, '1144': 1, '1152': 1, '1183': 1, '1185': 1, '1186': 1, '1187': 1, '1189': 1, '1192': 2, '1195': 2, '1199': 1, '1200': 1, '1201': 1, '1206': 1, '1223': 1, '1224': 4, '1225': 1, '1227': 2, '1228': 15, '1229': 13, '1230': 17, '1231': 14, '1232': 14, '1233': 16, '1234': 14, '1235': 13, '1236': 15, '1237': 15, '1238': 13, '1239': 14, '1240': 16, '1241': 11, '1242': 26, '1243': 19, '1244': 23, '1245': 23, '1246': 23, '1247': 21, '1248': 21, '1249': 25, '1250': 29, '1251': 39, '1252': 41, '1253': 43, '1254': 39, '1255': 27, '1256': 13, '1257': 13, '1258': 16, '1259': 12, '1260': 17, '1261': 19, '1262': 13, '1263': 14, '1264': 14, '1265': 14, '1266': 15, '1267': 12, '1268': 13, '1269': 33, '1270': 67, '1271': 74, '1272': 66, '1273': 72, '1274': 72, '1275': 31}\n",
      "[5, 5, 2, 0, 0, 0, 0, 0, 0, 0, 0, 0, 0, 0, 0, 0, 0, 0, 0, 0, 0, 0, 0, 0, 0, 0, 0, 0, 0, 0, 0, 0, 0, 0, 0, 0, 0, 0, 0, 0, 0, 0, 0, 0, 0, 0, 0, 0, 0, 0, 0, 0, 0, 0, 0, 0, 0, 0, 0, 3, 4, 4, 1, 0, 0, 0, 0, 0, 0, 0, 0, 0, 0, 0, 0, 0, 0, 0, 0, 0, 0, 0, 0, 0, 0, 0, 0, 0, 0, 0, 0, 0, 0, 0, 0, 0, 0, 0, 0, 0, 0, 0, 0, 0, 0, 0, 0, 0, 0, 0, 0, 0, 0, 0, 1, 2, 4, 0, 1, 2, 0, 2, 0, 0, 0, 0, 0, 0, 0, 0, 0, 0, 0, 0, 0, 0, 0, 0, 0, 0, 0, 0, 0, 0, 0, 0, 0, 0, 0, 0, 0, 0, 0, 0, 0, 0, 0, 0, 0, 0, 0, 0, 0, 0, 0, 0, 0, 0, 0, 1, 0, 1, 4, 0, 0, 0, 2, 2, 2, 0, 0, 0, 0, 0, 0, 0, 0, 0, 0, 0, 0, 0, 0, 0, 0, 0, 0, 0, 0, 0, 0, 0, 0, 0, 0, 0, 0, 0, 0, 0, 0, 0, 0, 0, 0, 0, 0, 0, 0, 0, 0, 0, 0, 0, 0, 0, 1, 2, 1, 0, 2, 0, 2, 1, 1, 2, 0, 0, 0, 0, 0, 0, 0, 0, 0, 0, 0, 0, 0, 0, 0, 0, 0, 0, 0, 0, 0, 0, 0, 0, 0, 0, 0, 0, 0, 0, 0, 0, 0, 0, 0, 0, 0, 0, 0, 0, 0, 0, 0, 0, 0, 0, 1, 1, 1, 1, 1, 1, 1, 2, 0, 1, 1, 1, 0, 0, 0, 0, 0, 0, 0, 0, 0, 0, 0, 0, 0, 0, 0, 0, 0, 0, 0, 0, 0, 0, 0, 0, 0, 0, 0, 0, 0, 0, 0, 0, 0, 0, 0, 0, 0, 0, 0, 0, 0, 0, 0, 0, 0, 1, 1, 1, 1, 4, 0, 1, 0, 1, 1, 1, 0, 0, 0, 0, 0, 0, 0, 0, 0, 0, 0, 0, 0, 0, 0, 0, 0, 0, 0, 0, 0, 0, 0, 0, 0, 0, 0, 0, 0, 0, 0, 0, 0, 0, 0, 0, 0, 0, 0, 0, 0, 0, 0, 0, 0, 1, 2, 0, 2, 2, 0, 1, 0, 2, 0, 0, 1, 0, 0, 0, 1, 0, 0, 0, 0, 0, 0, 0, 0, 0, 0, 0, 0, 0, 0, 0, 0, 0, 0, 0, 0, 0, 0, 0, 0, 0, 0, 0, 0, 0, 0, 0, 0, 0, 0, 0, 0, 0, 0, 0, 0, 0, 2, 3, 0, 0, 3, 1, 0, 0, 1, 0, 0, 0, 0, 2, 0, 0, 0, 0, 0, 0, 0, 0, 0, 0, 0, 0, 0, 0, 0, 0, 0, 0, 0, 0, 0, 0, 0, 0, 0, 0, 0, 0, 0, 0, 0, 0, 0, 0, 0, 0, 0, 0, 0, 0, 0, 0, 2, 1, 2, 1, 1, 2, 0, 0, 1, 0, 0, 0, 0, 0, 2, 0, 0, 0, 0, 0, 0, 0, 0, 0, 0, 0, 0, 0, 0, 0, 0, 0, 0, 0, 0, 0, 0, 0, 0, 0, 0, 0, 0, 0, 0, 0, 0, 0, 0, 0, 0, 0, 0, 0, 0, 0, 0, 3, 2, 1, 2, 0, 0, 1, 0, 1, 0, 0, 0, 0, 1, 1, 0, 0, 0, 0, 0, 0, 0, 0, 0, 0, 0, 0, 0, 0, 0, 0, 0, 0, 0, 0, 0, 0, 0, 0, 0, 0, 0, 0, 0, 0, 0, 0, 0, 0, 0, 0, 0, 0, 0, 0, 0, 1, 3, 2, 0, 2, 0, 0, 1, 0, 1, 0, 0, 0, 0, 2, 0, 0, 0, 0, 0, 0, 0, 0, 0, 0, 0, 0, 0, 0, 0, 0, 0, 0, 0, 0, 0, 0, 0, 0, 0, 0, 0, 0, 0, 0, 0, 0, 0, 0, 0, 0, 0, 0, 0, 0, 0, 2, 2, 1, 3, 0, 0, 0, 0, 0, 1, 0, 0, 0, 1, 0, 2, 0, 0, 0, 0, 0, 0, 0, 0, 0, 0, 0, 0, 0, 0, 0, 0, 0, 0, 0, 0, 0, 0, 0, 0, 0, 0, 0, 0, 0, 0, 0, 0, 0, 0, 0, 0, 0, 0, 0, 1, 0, 2, 0, 2, 2, 1, 0, 0, 0, 0, 0, 1, 1, 0, 0, 2, 0, 0, 0, 0, 0, 0, 0, 0, 0, 0, 0, 0, 0, 0, 0, 0, 0, 0, 0, 0, 0, 0, 0, 0, 0, 0, 0, 0, 0, 0, 0, 0, 0, 0, 0, 0, 0, 0, 1, 0, 0, 0, 2, 2, 3, 0, 0, 0, 0, 0, 0, 0, 1, 0, 0, 2, 0, 0, 1, 0, 0, 0, 0, 0, 0, 0, 0, 0, 0, 0, 0, 0, 0, 0, 0, 0, 0, 0, 0, 0, 0, 0, 0, 0, 0, 0, 0, 0, 0, 0, 0, 0, 0, 0, 0, 0, 2, 0, 2, 1, 1, 1, 0, 0, 0, 0, 1, 1, 0, 0, 0, 2, 0, 0, 0, 0, 0, 1, 0, 0, 0, 0, 0, 0, 0, 0, 0, 0, 0, 0, 0, 0, 0, 0, 0, 0, 0, 0, 0, 0, 0, 0, 0, 0, 0, 0, 0, 0, 0, 0, 0, 0, 0, 2, 1, 1, 1, 0, 0, 2, 0, 0, 0, 1, 1, 0, 1, 0, 0, 1, 0, 0, 0, 0, 1, 0, 0, 0, 0, 0, 0, 0, 0, 0, 0, 0, 0, 0, 0, 0, 0, 0, 0, 0, 0, 0, 0, 0, 0, 0, 0, 0, 0, 0, 0, 0, 1, 0, 1, 1, 0, 0, 0, 2, 0, 0, 0, 1, 1, 0, 1, 1, 0, 1, 1, 0, 0, 0, 0, 0, 0, 1, 0, 0, 0, 0, 0, 0, 0, 0, 0, 0, 0, 0, 0, 0, 0, 0, 0, 0, 0, 0, 0, 0, 0, 0, 0, 0, 0, 0, 0, 0, 1, 0, 0, 0, 1, 1, 0, 1, 1, 0, 0, 1, 1, 0, 1, 2, 0, 0, 0, 1, 0, 0, 0, 0, 0, 0, 0, 1, 0, 0, 0, 0, 0, 0, 0, 0, 0, 0, 0, 0, 0, 0, 0, 0, 0, 0, 0, 0, 0, 0, 0, 0, 0, 0, 0, 0, 0, 1, 0, 0, 1, 1, 0, 1, 1, 0, 0, 0, 2, 1, 0, 1, 1, 0, 0, 0, 0, 1, 0, 0, 0, 0, 0, 0, 0, 1, 0, 0, 0, 0, 0, 0, 0, 0, 0, 0, 0, 0, 0, 0, 0, 0, 0, 0, 0, 0, 0, 0, 0, 0, 0, 0, 0, 0, 1, 0, 0, 0, 1, 2, 0, 1, 0, 1, 0, 1, 1, 0, 1, 0, 0, 1, 0, 1, 0, 0, 0, 0, 0, 0, 0, 1, 0, 0, 0, 0, 0, 0, 0, 0, 0, 0, 0, 0, 0, 0, 0, 0, 0, 0, 0, 0, 0, 0, 0, 0, 0, 0, 0, 0, 0, 0, 1, 0, 1, 1, 1, 0, 1, 0, 0, 2, 0, 0, 2, 0, 0, 0, 1, 1, 1, 0, 0, 0, 0, 1, 0, 0, 0, 0, 0, 0, 0, 0, 0, 0, 0, 0, 0, 0, 0, 0, 1, 4, 1, 0, 2, 15, 13, 17, 14, 14, 16, 14, 13, 15, 15, 13, 14, 16, 11, 26, 19, 23, 23, 23, 21, 21, 25, 29, 39, 41, 43, 39, 27, 13, 13, 16, 12, 17, 19, 13, 14, 14, 14, 15, 12, 13, 33, 67, 74, 66, 72, 72, 31]\n"
     ]
    }
   ],
   "source": [
    "file_path = '/Users/jingyiwu/Documents/Project/executorLog/pr_nominal_executorLog.txt'\n",
    "log_lines = []\n",
    "with open(file_path, 'r') as file:\n",
    "    for line in file:\n",
    "        if \"Executor: !!!!Finished task\" in line.strip():\n",
    "            log_lines.append(line.strip()) \n",
    "count_sec = {}\n",
    "relative_time_lines = convert_to_relative_time(log_lines)\n",
    "\n",
    "for line in relative_time_lines:\n",
    "    info = line.split(\":\", 1)\n",
    "    if info[0] in count_sec:\n",
    "        count_sec[info[0]] += 1\n",
    "    else:\n",
    "        count_sec[info[0]] = 1\n",
    "\n",
    "print(count_sec)\n",
    "max_key = max(int(key) for key in count_sec)\n",
    "df = pd.DataFrame(index=range(max_key + 1))\n",
    "df['page rank nominal Count'] = 0\n",
    "\n",
    "for key, value in count_sec.items():\n",
    "    df.at[int(key), 'page rank nominal Count'] = value\n",
    "\n",
    "\n",
    "pr_nominal_list = df['page rank nominal Count'].to_list()\n",
    "\n",
    "print(pr_nominal_list)\n",
    "\n",
    "file_path = '/Users/jingyiwu/Documents/Project/executorLog/pr_sprinting_executorLog.txt'\n",
    "log_lines = []\n",
    "with open(file_path, 'r') as file:\n",
    "    for line in file:\n",
    "        if \"Executor: !!!!Finished task\" in line.strip():\n",
    "            log_lines.append(line.strip()) \n",
    "count_sec = {}\n",
    "relative_time_lines = convert_to_relative_time(log_lines)\n",
    "\n",
    "for line in relative_time_lines:\n",
    "    info = line.split(\":\", 1)\n",
    "    if info[0] in count_sec:\n",
    "        count_sec[info[0]] += 1\n",
    "    else:\n",
    "        count_sec[info[0]] = 1\n",
    "\n",
    "max_key = max(int(key) for key in count_sec)\n",
    "\n",
    "df = pd.DataFrame(index=range(max_key + 1))\n",
    "df['page rank sprinting Count'] = 0\n",
    "\n",
    "for key, value in count_sec.items():\n",
    "    df.at[int(key), 'page rank sprinting Count'] = value\n",
    "\n",
    "pr_sprinting_list = df['page rank sprinting Count'].to_list()\n"
   ]
  },
  {
   "cell_type": "code",
   "execution_count": 5,
   "metadata": {},
   "outputs": [],
   "source": [
    "file_path = '/Users/jingyiwu/Documents/Project/executorLog/lr_nominal_executorLog.txt'\n",
    "log_lines = []\n",
    "with open(file_path, 'r') as file:\n",
    "    for line in file:\n",
    "        if \"Executor: !!!!Finished task\" in line.strip():\n",
    "            log_lines.append(line.strip()) \n",
    "count_sec = {}\n",
    "relative_time_lines = convert_to_relative_time(log_lines)\n",
    "\n",
    "for line in relative_time_lines:\n",
    "    info = line.split(\":\", 1)\n",
    "    if info[0] in count_sec:\n",
    "        count_sec[info[0]] += 1\n",
    "    else:\n",
    "        count_sec[info[0]] = 1\n",
    "\n",
    "max_key = max(int(key) for key in count_sec)\n",
    "df = pd.DataFrame(index=range(max_key + 1))\n",
    "df['linearReg nominal Count'] = 0\n",
    "\n",
    "for key, value in count_sec.items():\n",
    "    df.at[int(key), 'linearReg nominal Count'] = value\n",
    "\n",
    "lr_nominal_list = df['linearReg nominal Count'].to_list()\n",
    "\n",
    "file_path = '/Users/jingyiwu/Documents/Project/executorLog/lr_sprinting_executorLog.txt'\n",
    "log_lines = []\n",
    "with open(file_path, 'r') as file:\n",
    "    for line in file:\n",
    "        if \"Executor: !!!!Finished task\" in line.strip():\n",
    "            log_lines.append(line.strip()) \n",
    "count_sec = {}\n",
    "relative_time_lines = convert_to_relative_time(log_lines)\n",
    "\n",
    "for line in relative_time_lines:\n",
    "    info = line.split(\":\", 1)\n",
    "    if info[0] in count_sec:\n",
    "        count_sec[info[0]] += 1\n",
    "    else:\n",
    "        count_sec[info[0]] = 1\n",
    "\n",
    "max_key = max(int(key) for key in count_sec)\n",
    "\n",
    "df = pd.DataFrame(index=range(max_key + 1))\n",
    "df['linearReg sprinting Count'] = 0\n",
    "\n",
    "for key, value in count_sec.items():\n",
    "    df.at[int(key), 'linearReg sprinting Count'] = value\n",
    "\n",
    "lr_sprinting_list = df['linearReg sprinting Count'].to_list()\n"
   ]
  },
  {
   "cell_type": "code",
   "execution_count": 6,
   "metadata": {},
   "outputs": [],
   "source": [
    "file_path = '/Users/jingyiwu/Documents/Project/executorLog/kmeans_nominal_executorLog.txt'\n",
    "log_lines = []\n",
    "with open(file_path, 'r') as file:\n",
    "    for line in file:\n",
    "        if \"Executor: !!!!Finished task\" in line.strip():\n",
    "            log_lines.append(line.strip()) \n",
    "count_sec = {}\n",
    "relative_time_lines = convert_to_relative_time(log_lines)\n",
    "\n",
    "for line in relative_time_lines:\n",
    "    info = line.split(\":\", 1)\n",
    "    if info[0] in count_sec:\n",
    "        count_sec[info[0]] += 1\n",
    "    else:\n",
    "        count_sec[info[0]] = 1\n",
    "\n",
    "max_key = max(int(key) for key in count_sec)\n",
    "df = pd.DataFrame(index=range(max_key + 1))\n",
    "df['kmeans nominal Count'] = 0\n",
    "\n",
    "for key, value in count_sec.items():\n",
    "    df.at[int(key), 'kmeans nominal Count'] = value\n",
    "\n",
    "\n",
    "kmeans_nominal_list = df['kmeans nominal Count'].to_list()\n",
    "\n",
    "file_path = '/Users/jingyiwu/Documents/Project/executorLog/kmeans_sprinting_executorLog.txt'\n",
    "log_lines = []\n",
    "with open(file_path, 'r') as file:\n",
    "    for line in file:\n",
    "        if \"Executor: !!!!Finished task\" in line.strip():\n",
    "            log_lines.append(line.strip()) \n",
    "count_sec = {}\n",
    "relative_time_lines = convert_to_relative_time(log_lines)\n",
    "\n",
    "\n",
    "for line in relative_time_lines:\n",
    "    info = line.split(\":\", 1)\n",
    "    if info[0] in count_sec:\n",
    "        count_sec[info[0]] += 1\n",
    "    else:\n",
    "        count_sec[info[0]] = 1\n",
    "\n",
    "max_key = max(int(key) for key in count_sec)\n",
    "\n",
    "df = pd.DataFrame(index=range(max_key + 1))\n",
    "df['kmeans sprinting Count'] = 0\n",
    "\n",
    "for key, value in count_sec.items():\n",
    "    df.at[int(key), 'kmeans sprinting Count'] = value\n",
    "\n",
    "kmeans_sprinting_list = df['kmeans sprinting Count'].to_list()\n"
   ]
  },
  {
   "cell_type": "code",
   "execution_count": 7,
   "metadata": {},
   "outputs": [],
   "source": [
    "file_path = '/Users/jingyiwu/Documents/Project/executorLog/als_nominal_executorLog.txt'\n",
    "log_lines = []\n",
    "with open(file_path, 'r') as file:\n",
    "    for line in file:\n",
    "        if \"Executor: !!!!Finished task\" in line.strip():\n",
    "            log_lines.append(line.strip()) \n",
    "count_sec = {}\n",
    "relative_time_lines = convert_to_relative_time(log_lines)\n",
    "\n",
    "for line in relative_time_lines:\n",
    "    info = line.split(\":\", 1)\n",
    "    if info[0] in count_sec:\n",
    "        count_sec[info[0]] += 1\n",
    "    else:\n",
    "        count_sec[info[0]] = 1\n",
    "\n",
    "max_key = max(int(key) for key in count_sec)\n",
    "df = pd.DataFrame(index=range(max_key + 1))\n",
    "df['als nominal Count'] = 0\n",
    "\n",
    "for key, value in count_sec.items():\n",
    "    df.at[int(key), 'als nominal Count'] = value\n",
    "\n",
    "\n",
    "als_nominal_list = df['als nominal Count'].to_list()\n",
    "\n",
    "file_path = '/Users/jingyiwu/Documents/Project/executorLog/als_sprinting_executorLog.txt'\n",
    "log_lines = []\n",
    "with open(file_path, 'r') as file:\n",
    "    for line in file:\n",
    "        if \"Executor: !!!!Finished task\" in line.strip():\n",
    "            log_lines.append(line.strip()) \n",
    "count_sec = {}\n",
    "relative_time_lines = convert_to_relative_time(log_lines)\n",
    "\n",
    "for line in relative_time_lines:\n",
    "    info = line.split(\":\", 1)\n",
    "    if info[0] in count_sec:\n",
    "        count_sec[info[0]] += 1\n",
    "    else:\n",
    "        count_sec[info[0]] = 1\n",
    "\n",
    "max_key = max(int(key) for key in count_sec)\n",
    "\n",
    "df = pd.DataFrame(index=range(max_key + 1))\n",
    "df['als sprinting Count'] = 0\n",
    "\n",
    "for key, value in count_sec.items():\n",
    "    df.at[int(key), 'als sprinting Count'] = value\n",
    "\n",
    "als_sprinting_list = df['als sprinting Count'].to_list()\n"
   ]
  },
  {
   "cell_type": "code",
   "execution_count": 8,
   "metadata": {},
   "outputs": [],
   "source": [
    "def interpolation(list, target_length):\n",
    "    # Original indices (0 to 5 for 6 elements)\n",
    "    original_indices = np.linspace(0, len(list) - 1, num=len(list))\n",
    "\n",
    "    # New indices for target list\n",
    "    new_indices = np.linspace(0, len(list) - 1, num=target_length)\n",
    "\n",
    "    # Interpolating to get the new list\n",
    "    new_list = np.interp(new_indices, original_indices, list)\n",
    "\n",
    "    return new_list.tolist()\n"
   ]
  },
  {
   "cell_type": "code",
   "execution_count": 9,
   "metadata": {},
   "outputs": [],
   "source": [
    "als_sprinting_list = interpolation(als_sprinting_list, len(als_nominal_list))\n",
    "kmeans_sprinting_list = interpolation(kmeans_sprinting_list, len(kmeans_nominal_list))\n",
    "lr_sprinting_list = interpolation(lr_sprinting_list, len(lr_nominal_list))\n",
    "pr_sprinting_list = interpolation(pr_sprinting_list, len(pr_nominal_list))\n",
    "svm_sprinting_list = interpolation(svm_sprinting_list, len(svm_nominal_list))"
   ]
  },
  {
   "cell_type": "code",
   "execution_count": 10,
   "metadata": {},
   "outputs": [],
   "source": [
    "l = {\"als_nominal_list\": als_nominal_list,\n",
    "     \"als_sprinting_list\": als_sprinting_list,\n",
    "     \"kmeans_nominal_list\": kmeans_nominal_list, \n",
    "     \"kmeans_sprinting_list\": kmeans_sprinting_list,\n",
    "     \"lr_nominal_list\": lr_nominal_list, \n",
    "     \"lr_sprinting_list\": lr_sprinting_list,\n",
    "     \"pr_nominal_list\": pr_nominal_list, \n",
    "     \"pr_sprinting_list\": pr_sprinting_list,\n",
    "     \"svm_nominal_list\": svm_nominal_list, \n",
    "     \"svm_sprinting_list\": svm_sprinting_list}"
   ]
  },
  {
   "cell_type": "code",
   "execution_count": 11,
   "metadata": {},
   "outputs": [],
   "source": [
    "\n",
    "with open('executorLog_list.txt', 'a+') as file:\n",
    "    for item in l:\n",
    "        file.write(f\"{item}: {l[item]}\\n\")\n"
   ]
  },
  {
   "cell_type": "code",
   "execution_count": 1,
   "metadata": {},
   "outputs": [],
   "source": [
    "import numpy as np"
   ]
  },
  {
   "cell_type": "code",
   "execution_count": 31,
   "metadata": {},
   "outputs": [
    {
     "data": {
      "text/plain": [
       "array([0.17647059, 0.05882353, 0.17647059, 0.05882353, 0.        ,\n",
       "       0.05882353, 0.11764706, 0.11764706, 0.        , 0.        ,\n",
       "       0.05882353, 0.        , 0.05882353, 0.        , 0.05882353,\n",
       "       0.05882353])"
      ]
     },
     "execution_count": 31,
     "metadata": {},
     "output_type": "execute_result"
    }
   ],
   "source": [
    "a = np.array([2,7,2,5,6,7,3,6,2,1,10, 12, 14, 15, 0, 0, 0])\n",
    "np.histogram(a, np.arange(0, a.max()+2, 1))[0] / np.histogram(a, np.arange(0, a.max()+2, 1))[0].sum()"
   ]
  },
  {
   "cell_type": "code",
   "execution_count": 32,
   "metadata": {},
   "outputs": [
    {
     "data": {
      "text/plain": [
       "array([0.17647059, 0.05882353, 0.17647059, 0.05882353, 0.        ,\n",
       "       0.05882353, 0.11764706, 0.11764706, 0.        , 0.        ,\n",
       "       0.05882353, 0.        , 0.05882353, 0.        , 0.11764706])"
      ]
     },
     "execution_count": 32,
     "metadata": {},
     "output_type": "execute_result"
    }
   ],
   "source": [
    "a = np.array([2,7,2,5,6,7,3,6,2,1,10, 12, 14, 15, 0, 0, 0])\n",
    "np.histogram(a, np.arange(0, a.max()+1, 1))[0] / np.histogram(a, np.arange(0, a.max()+1, 1))[0].sum()"
   ]
  },
  {
   "cell_type": "code",
   "execution_count": 33,
   "metadata": {},
   "outputs": [
    {
     "data": {
      "text/plain": [
       "array([0.17647059, 0.05882353, 0.17647059, 0.05882353, 0.        ,\n",
       "       0.05882353, 0.11764706, 0.11764706, 0.        , 0.        ,\n",
       "       0.05882353, 0.        , 0.05882353, 0.        , 0.05882353,\n",
       "       0.05882353, 0.        ])"
      ]
     },
     "execution_count": 33,
     "metadata": {},
     "output_type": "execute_result"
    }
   ],
   "source": [
    "a = np.array([2,7,2,5,6,7,3,6,2,1,10, 12, 14, 15, 0, 0, 0])\n",
    "np.histogram(a, np.arange(0, a.max()+3, 1))[0] / np.histogram(a, np.arange(0, a.max()+3, 1))[0].sum()"
   ]
  },
  {
   "cell_type": "code",
   "execution_count": 25,
   "metadata": {},
   "outputs": [
    {
     "data": {
      "text/plain": [
       "array([3, 1, 3, 1, 0, 1, 2, 2, 0, 0, 1, 0, 1, 0, 2])"
      ]
     },
     "execution_count": 25,
     "metadata": {},
     "output_type": "execute_result"
    }
   ],
   "source": [
    "np.histogram(a, np.arange(0, a.max()+1, 1))[0]"
   ]
  },
  {
   "cell_type": "code",
   "execution_count": 28,
   "metadata": {},
   "outputs": [
    {
     "data": {
      "text/plain": [
       "array([0.        , 0.06666667, 0.13333333, 0.2       , 0.26666667,\n",
       "       0.33333333, 0.4       , 0.46666667, 0.53333333, 0.6       ,\n",
       "       0.66666667, 0.73333333, 0.8       , 0.86666667, 0.93333333,\n",
       "       1.        ])"
      ]
     },
     "execution_count": 28,
     "metadata": {},
     "output_type": "execute_result"
    }
   ],
   "source": [
    "np.arange(a.min(), a.max()+1) / a.max()"
   ]
  },
  {
   "cell_type": "code",
   "execution_count": null,
   "metadata": {},
   "outputs": [],
   "source": []
  }
 ],
 "metadata": {
  "kernelspec": {
   "display_name": "Python 3",
   "language": "python",
   "name": "python3"
  },
  "language_info": {
   "codemirror_mode": {
    "name": "ipython",
    "version": 3
   },
   "file_extension": ".py",
   "mimetype": "text/x-python",
   "name": "python",
   "nbconvert_exporter": "python",
   "pygments_lexer": "ipython3",
   "version": "3.11.4"
  }
 },
 "nbformat": 4,
 "nbformat_minor": 2
}
